{
 "cells": [
  {
   "cell_type": "code",
   "execution_count": 11,
   "metadata": {},
   "outputs": [],
   "source": [
    "import apache_beam as beam\n",
    "\n",
    "# DoFn function \n",
    "class ProcessWords(beam.DoFn):\n",
    "  \n",
    "  def process(self, element, cutoff_length, marker):\n",
    "    \n",
    "    name = element.split(',')[1]\n",
    "    \n",
    "    if len(name) <= cutoff_length:\n",
    "      return [beam.pvalue.TaggedOutput('Short_Names', name)]\n",
    "        \n",
    "    elif len(name) > cutoff_length:\n",
    "      return [beam.pvalue.TaggedOutput('Long_Names', name)]\n",
    "\n",
    "    if name.startswith(marker):\n",
    "      return name\n"
   ]
  },
  {
   "cell_type": "code",
   "execution_count": 12,
   "metadata": {},
   "outputs": [
    {
     "data": {
      "text/plain": [
       "<apache_beam.runners.portability.fn_api_runner.fn_runner.RunnerResult at 0x1c837b0a880>"
      ]
     },
     "execution_count": 12,
     "metadata": {},
     "output_type": "execute_result"
    }
   ],
   "source": [
    "p = beam.Pipeline()\n",
    "\n",
    "      \n",
    "results = (\n",
    "            p\n",
    "            | beam.io.ReadFromText('L:\\Learning\\Apache Beam\\Data\\dept_data.txt')\n",
    "    \n",
    "            | beam.ParDo(ProcessWords(), cutoff_length=4, marker='A').with_outputs('Short_Names', 'Long_Names', main='Names_A')\n",
    "\n",
    "          )\n",
    "\n",
    "short_collection = results.Short_Names\n",
    "long_collection = results.Long_Names\n",
    "startA_collection = results.Names_A  \n",
    "\n",
    "# write to file  \n",
    "short_collection | 'Write 1'>> beam.io.WriteToText('Result/short')\n",
    "\n",
    "# write to file\n",
    "long_collection | 'Write 2'>> beam.io.WriteToText('Result/long')\n",
    "\n",
    "# write to file\n",
    "startA_collection | 'Write 3'>> beam.io.WriteToText('Result/start_a')\n",
    "\n",
    "p.run()"
   ]
  }
 ],
 "metadata": {
  "kernelspec": {
   "display_name": "Python 3",
   "language": "python",
   "name": "python3"
  },
  "language_info": {
   "codemirror_mode": {
    "name": "ipython",
    "version": 3
   },
   "file_extension": ".py",
   "mimetype": "text/x-python",
   "name": "python",
   "nbconvert_exporter": "python",
   "pygments_lexer": "ipython3",
   "version": "3.9.0"
  }
 },
 "nbformat": 4,
 "nbformat_minor": 2
}
