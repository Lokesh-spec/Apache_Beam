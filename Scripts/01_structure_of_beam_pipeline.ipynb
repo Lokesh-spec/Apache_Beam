{
 "cells": [
  {
   "cell_type": "code",
   "execution_count": 1,
   "metadata": {},
   "outputs": [],
   "source": [
    "## importing beam library\n",
    "import apache_beam as beam"
   ]
  },
  {
   "cell_type": "code",
   "execution_count": 31,
   "metadata": {},
   "outputs": [
    {
     "name": "stderr",
     "output_type": "stream",
     "text": [
      "WARNING:apache_beam.io.filebasedsink:Deleting 1 existing files in target path matching: -*-of-%(num_shards)05d\n"
     ]
    },
    {
     "data": {
      "text/plain": [
       "<apache_beam.runners.portability.fn_api_runner.fn_runner.RunnerResult at 0x203487308b0>"
      ]
     },
     "execution_count": 31,
     "metadata": {},
     "output_type": "execute_result"
    }
   ],
   "source": [
    "file_name = \"dept_data\"\n",
    "\n",
    "## create a pipeline\n",
    "p1 = beam.Pipeline()\n",
    "\n",
    "attendence_count = (\n",
    "    p1 \n",
    "    | \"Read from file\" >> beam.io.ReadFromText(f'L:\\Learning\\Apache Beam\\Data\\dept_data.txt')\n",
    "    | \"Split the element\" >> beam.Map(lambda element:element.split(','))\n",
    "    | \"Filtering\" >>beam.Filter(lambda element: element[3] == \"Accounts\")\n",
    "    | \"Map Transform\" >> beam.Map(lambda element: (element[1], 1))\n",
    "    | \"Combine Per Key Transform\" >> beam.CombinePerKey(sum)\n",
    "    | \"Write to a  file\" >> beam.io.WriteToText(f'Result\\{file_name}')\n",
    ")\n",
    "p1.run()"
   ]
  },
  {
   "cell_type": "code",
   "execution_count": 32,
   "metadata": {},
   "outputs": [
    {
     "name": "stdout",
     "output_type": "stream",
     "text": [
      "('Marco', 31)\n",
      "('Rebekah', 31)\n",
      "('Itoe', 31)\n",
      "('Edouard', 31)\n",
      "('Kyle', 62)\n",
      "('Kumiko', 31)\n",
      "('Gaston', 31)\n",
      "('Ayumi', 30)\n",
      "\n"
     ]
    }
   ],
   "source": [
    "import os\n",
    "\n",
    "pwd = os.getcwd()\n",
    "\n",
    "\n",
    "\n",
    "files = []\n",
    "\n",
    "for (dirpath, dirnames, filenames) in os.walk(pwd):\n",
    "    files.extend(filenames)\n",
    "\n",
    "result_file_name = [file for file in files if file.startswith(file_name)]\n",
    "\n",
    "f = open(f'Result/{result_file_name[0]}', 'r')\n",
    "\n",
    "file_context = f.read()\n",
    "\n",
    "print(file_context)\n",
    "\n",
    "f.close()"
   ]
  }
 ],
 "metadata": {
  "kernelspec": {
   "display_name": "Python 3",
   "language": "python",
   "name": "python3"
  },
  "language_info": {
   "codemirror_mode": {
    "name": "ipython",
    "version": 3
   },
   "file_extension": ".py",
   "mimetype": "text/x-python",
   "name": "python",
   "nbconvert_exporter": "python",
   "pygments_lexer": "ipython3",
   "version": "3.9.0"
  }
 },
 "nbformat": 4,
 "nbformat_minor": 2
}
