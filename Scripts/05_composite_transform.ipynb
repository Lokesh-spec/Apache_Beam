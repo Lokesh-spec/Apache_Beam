{
 "cells": [
  {
   "cell_type": "code",
   "execution_count": 4,
   "metadata": {},
   "outputs": [],
   "source": [
    "import apache_beam as beam\n",
    "\n",
    "class MyTransform(beam.PTransform):\n",
    "  \n",
    "  def expand(self, input_coll):\n",
    "    \n",
    "    a = ( \n",
    "        input_coll\n",
    "                       | 'Group and sum1' >> beam.CombinePerKey(sum)\n",
    "                       | 'count filter accounts' >> beam.Filter(filter_on_count)\n",
    "                       | 'Regular accounts employee' >> beam.Map(format_output)\n",
    "              \n",
    "    )\n",
    "    return a\n",
    "\n",
    "def SplitRow(element):\n",
    "    return element.split(',')\n",
    "  \n",
    "  \n",
    "def filter_on_count(element):\n",
    "  name, count = element\n",
    "  if count > 30:\n",
    "    return element\n",
    "  \n",
    "def format_output(element):\n",
    "  name, count = element\n",
    "  #return ', '.join((name.encode('ascii'),str(count),'Regular employee'))\n",
    "  return ', '.join((name,str(count),'Regular employee'))"
   ]
  },
  {
   "cell_type": "code",
   "execution_count": 7,
   "metadata": {},
   "outputs": [
    {
     "data": {
      "text/plain": [
       "<apache_beam.runners.portability.fn_api_runner.fn_runner.RunnerResult at 0x23ee811d400>"
      ]
     },
     "execution_count": 7,
     "metadata": {},
     "output_type": "execute_result"
    }
   ],
   "source": [
    "p = beam.Pipeline()\n",
    "\n",
    "input_collection = ( \n",
    "                      p \n",
    "                      | \"Read from text file\" >> beam.io.ReadFromText('L:\\Learning\\Apache Beam\\Data\\dept_data.txt')\n",
    "                      | \"Split rows\" >> beam.Map(SplitRow)\n",
    "                   )\n",
    "\n",
    "accounts_count = (\n",
    "                      input_collection\n",
    "                      | 'Get all Accounts dept persons' >> beam.Filter(lambda record: record[3] == 'Accounts')\n",
    "                      | 'Pair each accounts employee with 1' >> beam.Map(lambda record: (\"Accounts, \" +record[1], 1))\n",
    "                      | 'composite accoubts' >> MyTransform()\n",
    "                      | 'Write results for account' >> beam.io.WriteToText('Result/Account_composite_transform')\n",
    "                 )\n",
    "\n",
    "hr_count = (\n",
    "                input_collection\n",
    "                | 'Get all HR dept persons' >> beam.Filter(lambda record: record[3] == 'HR')\n",
    "                | 'Pair each hr employee with 1' >> beam.Map(lambda record: (\"HR, \" +record[1], 1))\n",
    "                | 'composite HR' >> MyTransform()\n",
    "                | 'Write results for hr' >> beam.io.WriteToText('Result/HR_composite_transform')\n",
    "           ) \n",
    "p.run()\n",
    "  \n"
   ]
  }
 ],
 "metadata": {
  "kernelspec": {
   "display_name": "Python 3",
   "language": "python",
   "name": "python3"
  },
  "language_info": {
   "codemirror_mode": {
    "name": "ipython",
    "version": 3
   },
   "file_extension": ".py",
   "mimetype": "text/x-python",
   "name": "python",
   "nbconvert_exporter": "python",
   "pygments_lexer": "ipython3",
   "version": "3.9.0"
  }
 },
 "nbformat": 4,
 "nbformat_minor": 2
}
