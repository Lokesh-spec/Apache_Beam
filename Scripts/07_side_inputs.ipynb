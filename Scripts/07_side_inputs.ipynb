{
 "cells": [
  {
   "cell_type": "code",
   "execution_count": 11,
   "metadata": {},
   "outputs": [],
   "source": [
    "import apache_beam as beam\n",
    "\n",
    "side_list=list()\n",
    "with open ('L:\\Learning\\Apache Beam\\Data\\exclude_ids.txt','r') as my_file:\n",
    "  for line in my_file:\n",
    "    side_list.append(line.rstrip())\n",
    "\n",
    "p = beam.Pipeline()\n",
    "\n",
    "# We can pass side inputs to a ParDo transform, which will get passed to its process method.\n",
    "# The first two arguments for the process method would be self and element.\n",
    "\n",
    "class FilterUsingLength(beam.DoFn):\n",
    "  def process(self, element,side_list,lower_bound, upper_bound=float('inf')):\n",
    "    id = element.split(',')[0]\n",
    "    name = element.split(',')[1]\n",
    "    element_list= element.split(',')\n",
    "    if (lower_bound <= len(name) <= upper_bound) and id not in side_list:\n",
    "      return [element_list]"
   ]
  },
  {
   "cell_type": "code",
   "execution_count": 12,
   "metadata": {},
   "outputs": [
    {
     "data": {
      "text/plain": [
       "<apache_beam.runners.portability.fn_api_runner.fn_runner.RunnerResult at 0x278db8956a0>"
      ]
     },
     "execution_count": 12,
     "metadata": {},
     "output_type": "execute_result"
    }
   ],
   "source": [
    "# using pardo to filter names with length between 3 and 10\n",
    "small_names =( \n",
    "                p\n",
    "                | \"Read from text file\" >> beam.io.ReadFromText('L:\\Learning\\Apache Beam\\Data\\dept_data.txt')\n",
    "                | \"ParDo with side inputs\" >> beam.ParDo(FilterUsingLength(),side_list,3,10) \n",
    "                | beam.Filter(lambda record: record[3] == 'Accounts')\n",
    "                | beam.Map(lambda record: (record[0]+ \" \" + record[1], 1))\n",
    "                | beam.CombinePerKey(sum)\n",
    "                | 'Write results' >> beam.io.WriteToText('Result/side_inputs')\n",
    "             )\n",
    "\n",
    "p.run()\n"
   ]
  }
 ],
 "metadata": {
  "kernelspec": {
   "display_name": "Python 3",
   "language": "python",
   "name": "python3"
  },
  "language_info": {
   "codemirror_mode": {
    "name": "ipython",
    "version": 3
   },
   "file_extension": ".py",
   "mimetype": "text/x-python",
   "name": "python",
   "nbconvert_exporter": "python",
   "pygments_lexer": "ipython3",
   "version": "3.9.0"
  }
 },
 "nbformat": 4,
 "nbformat_minor": 2
}
