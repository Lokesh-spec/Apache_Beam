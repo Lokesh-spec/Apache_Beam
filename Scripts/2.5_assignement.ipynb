{
 "cells": [
  {
   "cell_type": "code",
   "execution_count": 2,
   "metadata": {},
   "outputs": [
    {
     "data": {
      "text/plain": [
       "<apache_beam.runners.portability.fn_api_runner.fn_runner.RunnerResult at 0x28eb5d4d370>"
      ]
     },
     "execution_count": 2,
     "metadata": {},
     "output_type": "execute_result"
    }
   ],
   "source": [
    "import re\n",
    "import apache_beam as beam\n",
    "pipeline = beam.Pipeline()\n",
    "\n",
    "\n",
    "word_count = (\n",
    "    pipeline \n",
    "        | 'read the file' >> beam.io.ReadFromText('L:\\Learning\\Apache Beam\\Data\\data.txt')\n",
    "        |'tokenize the words' >> beam.FlatMap(lambda x: x.split(' '))\n",
    "        |'remove unnecessary punctuations'>> beam.Map(lambda x: re.sub(r\":()|\\]\\[.-\",\"\",x))\n",
    "        |'remove tabs'>> beam.Map(lambda x: re.sub(r\"\\t\",\"\",x))\n",
    "        |'convert to key value pair'>>beam.Map(lambda x: (x,1))\n",
    "        |'combinebykey'>>beam.CombinePerKey(sum)\n",
    "        |'output the file'>> beam.io.WriteToText('Result/counts_1')\n",
    "\n",
    ")\n",
    "\n",
    "pipeline.run()"
   ]
  }
 ],
 "metadata": {
  "kernelspec": {
   "display_name": "Python 3",
   "language": "python",
   "name": "python3"
  },
  "language_info": {
   "codemirror_mode": {
    "name": "ipython",
    "version": 3
   },
   "file_extension": ".py",
   "mimetype": "text/x-python",
   "name": "python",
   "nbconvert_exporter": "python",
   "pygments_lexer": "ipython3",
   "version": "3.9.0"
  }
 },
 "nbformat": 4,
 "nbformat_minor": 2
}
