{
 "cells": [
  {
   "cell_type": "markdown",
   "metadata": {},
   "source": [
    "### This Apache Beam pipeline performs a computation of the average value from a collection of numbers and writes the result to a text file. Let’s break down each part:"
   ]
  },
  {
   "cell_type": "markdown",
   "metadata": {},
   "source": [
    "#### 1. Pipeline Initialization\n",
    "\n",
    "a. Imports the Apache Beam library.\n",
    "\n",
    "b. Initializes a Beam pipeline, which is the primary construct for defining and executing a data processing workflow."
   ]
  },
  {
   "cell_type": "code",
   "execution_count": 1,
   "metadata": {},
   "outputs": [],
   "source": [
    "import apache_beam as beam\n",
    "\n",
    "p = beam.Pipeline()\n",
    "\n"
   ]
  },
  {
   "cell_type": "markdown",
   "metadata": {},
   "source": [
    "##### 2. Define a Custom CombineFn for Average Calculation\n",
    "\n",
    "AverageFn is a custom CombineFn (a Beam class for combining values) that calculates the average of a collection of numbers.\n",
    "\n",
    "    1. create_accumulator(self): Initializes the accumulator as a tuple (sum, count), where sum is 0.0 and count is 0.\n",
    "\n",
    "    2. add_input(self, sum_count, input): Updates the accumulator by adding the new input to the sum and incrementing the count.\n",
    "\n",
    "    3. merge_accumulators(self, accumulators): Merges multiple accumulators from parallel processing. It sums up all individual sums and counts.\n",
    "\n",
    "    4. extract_output(self, sum_count): Computes the average by dividing sum by count. Returns NaN if the count is zero."
   ]
  },
  {
   "cell_type": "code",
   "execution_count": null,
   "metadata": {},
   "outputs": [],
   "source": [
    "class AverageFn(beam.CombineFn):\n",
    "  \n",
    "  def create_accumulator(self):\n",
    "     return (0.0, 0)   # initialize (sum, count)\n",
    "\n",
    "  def add_input(self, sum_count, input):\n",
    "    (sum, count) = sum_count\n",
    "    return sum + input, count + 1\n",
    "\n",
    "  def merge_accumulators(self, accumulators):\n",
    "    \n",
    "    ind_sums, ind_counts = zip(*accumulators)       # zip - [(27, 3), (39, 3), (18, 2)]  -->   [(27,39,18), (3,3,2)]\n",
    "    return sum(ind_sums), sum(ind_counts)        # (84,8)\n",
    "\n",
    "  def extract_output(self, sum_count):    \n",
    "    \n",
    "    (sum, count) = sum_count    # combine globally using CombineFn\n",
    "    return sum / count if count else float('NaN')"
   ]
  },
  {
   "cell_type": "markdown",
   "metadata": {},
   "source": [
    "##### 3. Apply the CombineGlobally Transformation\n",
    "\n",
    "1. beam.Create([15,5,7,7,9,23,13,5]): Creates a PCollection (a distributed collection of data) from the list of numbers.\n",
    "\n",
    "2. \"Combine Globally\" >> beam.CombineGlobally(AverageFn()): Applies the AverageFn to the entire PCollection to compute the average. CombineGlobally is used to aggregate the entire collection into a single result.\n",
    "\n",
    "3. 'Write results' >> beam.io.WriteToText('Result/combine'): Writes the result of the computation to a text file named 'data/combine'."
   ]
  },
  {
   "cell_type": "code",
   "execution_count": 2,
   "metadata": {},
   "outputs": [
    {
     "name": "stderr",
     "output_type": "stream",
     "text": [
      "WARNING:apache_beam.runners.interactive.interactive_environment:Dependencies required for Interactive Beam PCollection visualization are not available, please use: `pip install apache-beam[interactive]` to install necessary dependencies to enable all data visualization features.\n"
     ]
    },
    {
     "data": {
      "application/javascript": "\n        if (typeof window.interactive_beam_jquery == 'undefined') {\n          var jqueryScript = document.createElement('script');\n          jqueryScript.src = 'https://code.jquery.com/jquery-3.4.1.slim.min.js';\n          jqueryScript.type = 'text/javascript';\n          jqueryScript.onload = function() {\n            var datatableScript = document.createElement('script');\n            datatableScript.src = 'https://cdn.datatables.net/1.10.20/js/jquery.dataTables.min.js';\n            datatableScript.type = 'text/javascript';\n            datatableScript.onload = function() {\n              window.interactive_beam_jquery = jQuery.noConflict(true);\n              window.interactive_beam_jquery(document).ready(function($){\n                \n              });\n            }\n            document.head.appendChild(datatableScript);\n          };\n          document.head.appendChild(jqueryScript);\n        } else {\n          window.interactive_beam_jquery(document).ready(function($){\n            \n          });\n        }"
     },
     "metadata": {},
     "output_type": "display_data"
    },
    {
     "data": {
      "text/plain": [
       "<apache_beam.runners.portability.fn_api_runner.fn_runner.RunnerResult at 0x1a0a05dadf0>"
      ]
     },
     "execution_count": 2,
     "metadata": {},
     "output_type": "execute_result"
    }
   ],
   "source": [
    "small_sum = (\n",
    "           p \n",
    "            | beam.Create([15,5,7,7,9,23,13,5])\n",
    "            | \"Combine Globally\" >> beam.CombineGlobally(AverageFn()) \n",
    "            | 'Write results' >> beam.io.WriteToText('Result/combine')\n",
    "          )\n",
    "p.run()"
   ]
  }
 ],
 "metadata": {
  "kernelspec": {
   "display_name": "Python 3",
   "language": "python",
   "name": "python3"
  },
  "language_info": {
   "codemirror_mode": {
    "name": "ipython",
    "version": 3
   },
   "file_extension": ".py",
   "mimetype": "text/x-python",
   "name": "python",
   "nbconvert_exporter": "python",
   "pygments_lexer": "ipython3",
   "version": "3.9.0"
  }
 },
 "nbformat": 4,
 "nbformat_minor": 2
}
